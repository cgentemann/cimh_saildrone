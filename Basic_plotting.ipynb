{
 "cells": [
  {
   "cell_type": "code",
   "execution_count": null,
   "metadata": {},
   "outputs": [],
   "source": [
    "import xarray as xr\n",
    "import numpy as np\n",
    "import pandas as pd\n",
    "import matplotlib.pyplot as plt\n",
    "import seawater as sw\n",
    "import cartopy.crs as ccrs                   # import projections\n",
    "import cartopy.feature as cf                 # import features\n",
    "from glob import glob\n",
    "\n",
    "#create xarray dataset with saildrone filenames\n",
    "#data directory for saildrone data\n",
    "data_dir = './data/'\n",
    "saildrone_filenames = glob(data_dir+'saildrone*.nc')\n",
    "saildrone_filenames"
   ]
  },
  {
   "cell_type": "code",
   "execution_count": null,
   "metadata": {},
   "outputs": [],
   "source": [
    "ds_usv=xr.open_mfdataset(saildrone_filenames,combine='nested',concat_dim='trajectory').rename({'latitude':'lat','longitude':'lon'})\n",
    "ds_usv.close()\n",
    "ds_usv['wspd']=np.sqrt(ds_usv.UWND_MEAN**2+ds_usv.VWND_MEAN**2)\n",
    "ds_usv\n"
   ]
  },
  {
   "cell_type": "code",
   "execution_count": null,
   "metadata": {},
   "outputs": [],
   "source": [
    "plt.scatter(ds_usv.TEMP_SBE37_MEAN,ds_usv.SAL_RBR_MEAN)"
   ]
  },
  {
   "cell_type": "markdown",
   "metadata": {},
   "source": [
    "# calculate mean difference between salinity sensors"
   ]
  },
  {
   "cell_type": "code",
   "execution_count": null,
   "metadata": {
    "scrolled": true
   },
   "outputs": [],
   "source": [
    "dd=[]\n",
    "for iusv in range(3):\n",
    "    ds = ds_usv.isel(trajectory=iusv)\n",
    "    dif = ds.SAL_SBE37_MEAN-ds.SAL_RBR_MEAN.load()\n",
    "    difm = dif.mean().load().data\n",
    "    difs = dif.std().load().data\n",
    "    print(iusv,\"{:.2f}\".format(difm),\"{:.2f}\".format(difs),np.isfinite(dif).sum().load().data)\n",
    "    if iusv==0:\n",
    "        dd=ds.SAL_SBE37_MEAN.data\n",
    "    else:\n",
    "        dd = np.concatenate([dd,ds.SAL_SBE37_MEAN.data])\n",
    "    "
   ]
  },
  {
   "cell_type": "markdown",
   "metadata": {},
   "source": [
    "# plot on map"
   ]
  },
  {
   "cell_type": "code",
   "execution_count": null,
   "metadata": {},
   "outputs": [],
   "source": [
    "ds = ds_usv.isel(trajectory=0)\n",
    "dx,dy=2,2\n",
    "x1,x2=ds.lon.min().data-dx,ds.lon.max().data+dx\n",
    "y1,y2=ds.lat.min().data-dy,ds.lat.max().data+dy\n",
    "ax3 = plt.subplot(111,projection = ccrs.PlateCarree())\n",
    "im=ax3.scatter(ds.lon,ds.lat,c=ds.TEMP_CTD_RBR_MEAN,s=.15,transform=ccrs.PlateCarree(),cmap='jet')\n",
    "ax3.coastlines(resolution='10m')                \n",
    "ax3.set_extent([x1,x2,y1,y2])\n"
   ]
  },
  {
   "cell_type": "code",
   "execution_count": null,
   "metadata": {},
   "outputs": [],
   "source": []
  }
 ],
 "metadata": {
  "kernelspec": {
   "display_name": "Python 3",
   "language": "python",
   "name": "python3"
  },
  "language_info": {
   "codemirror_mode": {
    "name": "ipython",
    "version": 3
   },
   "file_extension": ".py",
   "mimetype": "text/x-python",
   "name": "python",
   "nbconvert_exporter": "python",
   "pygments_lexer": "ipython3",
   "version": "3.8.3"
  }
 },
 "nbformat": 4,
 "nbformat_minor": 4
}
